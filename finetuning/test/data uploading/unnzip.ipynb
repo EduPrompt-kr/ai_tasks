{
 "cells": [
  {
   "cell_type": "code",
   "execution_count": 2,
   "id": "2c6d4bac",
   "metadata": {},
   "outputs": [
    {
     "name": "stdout",
     "output_type": "stream",
     "text": [
      "✅ Unzipped successfully!\n"
     ]
    }
   ],
   "source": [
    "import zipfile\n",
    "import os\n",
    "\n",
    "zip_path = \"/workspace/50set_for_test_image.zip\"       # Replace with your zip file path\n",
    "extract_to = \"/workspace/50set\"    # Replace with your target extraction folder\n",
    "\n",
    "with zipfile.ZipFile(zip_path, 'r') as zip_ref:\n",
    "    zip_ref.extractall(extract_to)\n",
    "\n",
    "print(\"✅ Unzipped successfully!\")\n"
   ]
  },
  {
   "cell_type": "code",
   "execution_count": 3,
   "id": "f95cc0fb",
   "metadata": {},
   "outputs": [
    {
     "name": "stdout",
     "output_type": "stream",
     "text": [
      "✅ Renamed: row_2_student.png ➜ 001_student.png\n",
      "✅ Renamed: row_2_teacher.png ➜ 001_teacher.png\n",
      "✅ Renamed: row_7_student.png ➜ 002_student.png\n",
      "✅ Renamed: row_7_teacher.png ➜ 002_teacher.png\n",
      "✅ Renamed: row_9_student.png ➜ 003_student.png\n",
      "✅ Renamed: row_9_teacher.png ➜ 003_teacher.png\n",
      "✅ Renamed: row_12_student.png ➜ 004_student.png\n",
      "✅ Renamed: row_12_teacher.png ➜ 004_teacher.png\n",
      "✅ Renamed: row_16_student.png ➜ 005_student.png\n",
      "✅ Renamed: row_16_teacher.png ➜ 005_teacher.png\n",
      "✅ Renamed: row_17_student.png ➜ 006_student.png\n",
      "✅ Renamed: row_17_teacher.png ➜ 006_teacher.png\n",
      "✅ Renamed: row_22_student.png ➜ 007_student.png\n",
      "✅ Renamed: row_22_teacher.png ➜ 007_teacher.png\n",
      "✅ Renamed: row_26_student.png ➜ 008_student.png\n",
      "✅ Renamed: row_26_teacher.png ➜ 008_teacher.png\n",
      "✅ Renamed: row_28_student.png ➜ 009_student.png\n",
      "✅ Renamed: row_28_teacher.png ➜ 009_teacher.png\n",
      "✅ Renamed: row_39_student.png ➜ 010_student.png\n",
      "✅ Renamed: row_39_teacher.png ➜ 010_teacher.png\n",
      "✅ Renamed: row_43_student.png ➜ 011_student.png\n",
      "✅ Renamed: row_43_teacher.png ➜ 011_teacher.png\n",
      "✅ Renamed: row_46_student.png ➜ 012_student.png\n",
      "✅ Renamed: row_46_teacher.png ➜ 012_teacher.png\n",
      "✅ Renamed: row_47_student.png ➜ 013_student.png\n",
      "✅ Renamed: row_47_teacher.png ➜ 013_teacher.png\n",
      "✅ Renamed: row_55_student.png ➜ 014_student.png\n",
      "✅ Renamed: row_55_teacher.png ➜ 014_teacher.png\n",
      "✅ Renamed: row_56_student.png ➜ 015_student.png\n",
      "✅ Renamed: row_56_teacher.png ➜ 015_teacher.png\n",
      "✅ Renamed: row_57_student.png ➜ 016_student.png\n",
      "✅ Renamed: row_57_teacher.png ➜ 016_teacher.png\n",
      "✅ Renamed: row_61_student.png ➜ 017_student.png\n",
      "✅ Renamed: row_61_teacher.png ➜ 017_teacher.png\n",
      "✅ Renamed: row_64_student.png ➜ 018_student.png\n",
      "✅ Renamed: row_64_teacher.png ➜ 018_teacher.png\n",
      "✅ Renamed: row_68_student.png ➜ 019_student.png\n",
      "✅ Renamed: row_68_teacher.png ➜ 019_teacher.png\n",
      "✅ Renamed: row_72_student.png ➜ 020_student.png\n",
      "✅ Renamed: row_72_teacher.png ➜ 020_teacher.png\n",
      "✅ Renamed: row_78_student.png ➜ 021_student.png\n",
      "✅ Renamed: row_78_teacher.png ➜ 021_teacher.png\n",
      "✅ Renamed: row_81_student.png ➜ 022_student.png\n",
      "✅ Renamed: row_81_teacher.png ➜ 022_teacher.png\n",
      "✅ Renamed: row_82_student.png ➜ 023_student.png\n",
      "✅ Renamed: row_82_teacher.png ➜ 023_teacher.png\n",
      "✅ Renamed: row_90_student.png ➜ 024_student.png\n",
      "✅ Renamed: row_90_teacher.png ➜ 024_teacher.png\n",
      "✅ Renamed: row_94_student.png ➜ 025_student.png\n",
      "✅ Renamed: row_94_teacher.png ➜ 025_teacher.png\n",
      "✅ Renamed: row_96_student.png ➜ 026_student.png\n",
      "✅ Renamed: row_96_teacher.png ➜ 026_teacher.png\n",
      "✅ Renamed: row_97_student.png ➜ 027_student.png\n",
      "✅ Renamed: row_97_teacher.png ➜ 027_teacher.png\n",
      "✅ Renamed: row_106_student.png ➜ 028_student.png\n",
      "✅ Renamed: row_106_teacher.png ➜ 028_teacher.png\n",
      "✅ Renamed: row_109_student.png ➜ 029_student.png\n",
      "✅ Renamed: row_109_teacher.png ➜ 029_teacher.png\n",
      "✅ Renamed: row_110_student.png ➜ 030_student.png\n",
      "✅ Renamed: row_110_teacher.png ➜ 030_teacher.png\n",
      "✅ Renamed: row_113_student.png ➜ 031_student.png\n",
      "✅ Renamed: row_113_teacher.png ➜ 031_teacher.png\n",
      "✅ Renamed: row_115_student.png ➜ 032_student.png\n",
      "✅ Renamed: row_115_teacher.png ➜ 032_teacher.png\n",
      "✅ Renamed: row_118_student.png ➜ 033_student.png\n",
      "✅ Renamed: row_118_teacher.png ➜ 033_teacher.png\n",
      "✅ Renamed: row_120_student.png ➜ 034_student.png\n",
      "✅ Renamed: row_120_teacher.png ➜ 034_teacher.png\n",
      "✅ Renamed: row_126_student.png ➜ 035_student.png\n",
      "✅ Renamed: row_126_teacher.png ➜ 035_teacher.png\n",
      "✅ Renamed: row_135_student.png ➜ 036_student.png\n",
      "✅ Renamed: row_135_teacher.png ➜ 036_teacher.png\n",
      "✅ Renamed: row_147_student.png ➜ 037_student.png\n",
      "✅ Renamed: row_147_teacher.png ➜ 037_teacher.png\n",
      "✅ Renamed: row_165_student.png ➜ 038_student.png\n",
      "✅ Renamed: row_165_teacher.png ➜ 038_teacher.png\n",
      "✅ Renamed: row_167_student.png ➜ 039_student.png\n",
      "✅ Renamed: row_167_teacher.png ➜ 039_teacher.png\n",
      "✅ Renamed: row_178_student.png ➜ 040_student.png\n",
      "✅ Renamed: row_178_teacher.png ➜ 040_teacher.png\n",
      "✅ Renamed: row_188_student.png ➜ 041_student.png\n",
      "✅ Renamed: row_188_teacher.png ➜ 041_teacher.png\n",
      "✅ Renamed: row_195_student.png ➜ 042_student.png\n",
      "✅ Renamed: row_195_teacher.png ➜ 042_teacher.png\n",
      "✅ Renamed: row_202_student.png ➜ 043_student.png\n",
      "✅ Renamed: row_202_teacher.png ➜ 043_teacher.png\n",
      "✅ Renamed: row_204_student.png ➜ 044_student.png\n",
      "✅ Renamed: row_204_teacher.png ➜ 044_teacher.png\n",
      "✅ Renamed: row_217_student.png ➜ 045_student.png\n",
      "✅ Renamed: row_217_teacher.png ➜ 045_teacher.png\n",
      "✅ Renamed: row_225_student.png ➜ 046_student.png\n",
      "✅ Renamed: row_225_teacher.png ➜ 046_teacher.png\n",
      "✅ Renamed: row_233_student.png ➜ 047_student.png\n",
      "✅ Renamed: row_233_teacher.png ➜ 047_teacher.png\n",
      "✅ Renamed: row_239_student.png ➜ 048_student.png\n",
      "✅ Renamed: row_239_teacher.png ➜ 048_teacher.png\n",
      "✅ Renamed: row_243_student.png ➜ 049_student.png\n",
      "✅ Renamed: row_243_teacher.png ➜ 049_teacher.png\n",
      "✅ Renamed: row_249_student.png ➜ 050_student.png\n",
      "✅ Renamed: row_249_teacher.png ➜ 050_teacher.png\n"
     ]
    }
   ],
   "source": [
    "import os\n",
    "from pathlib import Path\n",
    "\n",
    "# --- CONFIG ---\n",
    "folder = Path(\"/workspace/50set\")  # Folder containing your images\n",
    "target_rows = [\n",
    "    2, 7, 9, 12, 16, 17, 22, 26, 28, 39, 43, 46, 47, 55, 56, 57, 61, 64, 68, 72,\n",
    "    78, 81, 82, 90, 94, 96, 97, 106, 109, 110, 113, 115, 118, 120, 126, 135, 147,\n",
    "    165, 167, 178, 188, 195, 202, 204, 217, 225, 233, 239, 243, 249\n",
    "]\n",
    "\n",
    "# --- RENAME FILES ---\n",
    "for i, row in enumerate(target_rows, 1):\n",
    "    index = str(i).zfill(3)  # 001, 002, ...\n",
    "    for role in [\"student\", \"teacher\"]:\n",
    "        old_name = f\"row_{row}_{role}.png\"\n",
    "        new_name = f\"{index}_{role}.png\"\n",
    "        old_path = folder / old_name\n",
    "        new_path = folder / new_name\n",
    "\n",
    "        if old_path.exists():\n",
    "            os.rename(old_path, new_path)\n",
    "            print(f\"✅ Renamed: {old_name} ➜ {new_name}\")\n",
    "        else:\n",
    "            print(f\"❌ Missing file: {old_name}\")\n"
   ]
  },
  {
   "cell_type": "code",
   "execution_count": 6,
   "id": "332f000d",
   "metadata": {},
   "outputs": [
    {
     "name": "stdout",
     "output_type": "stream",
     "text": [
      "✅ Cleaned file saved as cleaned_output.csv\n"
     ]
    }
   ],
   "source": [
    "import pandas as pd\n",
    "import re\n",
    "\n",
    "# Load original file\n",
    "df = pd.read_csv(\"/workspace/50set/caption_results.csv\")  # Replace with your actual file name\n",
    "\n",
    "# Define function to extract only the structured caption from cell\n",
    "def extract_caption(text):\n",
    "    if isinstance(text, str):\n",
    "        match = re.search(r\"assistant\\n\\n(.*?)$\", text.strip(), re.DOTALL)\n",
    "        if match:\n",
    "            return match.group(1).strip()\n",
    "    return \"\"\n",
    "\n",
    "# Clean both columns\n",
    "df[\"Student\"] = df[\"Student\"].apply(extract_caption)\n",
    "df[\"Teacher\"] = df[\"Teacher\"].apply(extract_caption)\n",
    "\n",
    "# Export clean CSV\n",
    "df.to_csv(\"cleaned_output.csv\", index=False)\n",
    "\n",
    "print(\"✅ Cleaned file saved as cleaned_output.csv\")\n"
   ]
  },
  {
   "cell_type": "code",
   "execution_count": 7,
   "id": "b4b90f02",
   "metadata": {},
   "outputs": [
    {
     "name": "stdout",
     "output_type": "stream",
     "text": [
      "✅ Cleaned file saved as cleaned_output_base.csv\n"
     ]
    }
   ],
   "source": [
    "import pandas as pd\n",
    "import re\n",
    "\n",
    "# Load original file\n",
    "df = pd.read_csv(\"/workspace/50set/caption_results_base.csv\")  # Replace with your actual file name\n",
    "\n",
    "# Define function to extract only the structured caption from cell\n",
    "def extract_caption(text):\n",
    "    if isinstance(text, str):\n",
    "        match = re.search(r\"assistant\\n\\n(.*?)$\", text.strip(), re.DOTALL)\n",
    "        if match:\n",
    "            return match.group(1).strip()\n",
    "    return \"\"\n",
    "\n",
    "# Clean both columns\n",
    "df[\"Student\"] = df[\"Student\"].apply(extract_caption)\n",
    "df[\"Teacher\"] = df[\"Teacher\"].apply(extract_caption)\n",
    "\n",
    "# Export clean CSV\n",
    "df.to_csv(\"cleaned_output_base.csv\", index=False)\n",
    "\n",
    "print(\"✅ Cleaned file saved as cleaned_output_base.csv\")\n"
   ]
  },
  {
   "cell_type": "code",
   "execution_count": null,
   "id": "9fb47f48",
   "metadata": {},
   "outputs": [],
   "source": []
  }
 ],
 "metadata": {
  "kernelspec": {
   "display_name": "Python 3 (ipykernel)",
   "language": "python",
   "name": "python3"
  },
  "language_info": {
   "codemirror_mode": {
    "name": "ipython",
    "version": 3
   },
   "file_extension": ".py",
   "mimetype": "text/x-python",
   "name": "python",
   "nbconvert_exporter": "python",
   "pygments_lexer": "ipython3",
   "version": "3.12.8"
  }
 },
 "nbformat": 4,
 "nbformat_minor": 5
}
