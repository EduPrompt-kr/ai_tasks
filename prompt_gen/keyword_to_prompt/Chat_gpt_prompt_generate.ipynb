{
  "nbformat": 4,
  "nbformat_minor": 0,
  "metadata": {
    "colab": {
      "provenance": []
    },
    "kernelspec": {
      "name": "python3",
      "display_name": "Python 3"
    },
    "language_info": {
      "name": "python"
    }
  },
  "cells": [
    {
      "cell_type": "code",
      "source": [
        "!pip install -q gradio openai"
      ],
      "metadata": {
        "colab": {
          "base_uri": "https://localhost:8080/"
        },
        "id": "zOSvN0iAhc6O",
        "outputId": "29cffa04-4858-4c63-fc13-970922732c82"
      },
      "execution_count": null,
      "outputs": [
        {
          "output_type": "stream",
          "name": "stdout",
          "text": [
            "\u001b[2K   \u001b[90m━━━━━━━━━━━━━━━━━━━━━━━━━━━━━━━━━━━━━━━━\u001b[0m \u001b[32m57.6/57.6 MB\u001b[0m \u001b[31m15.3 MB/s\u001b[0m eta \u001b[36m0:00:00\u001b[0m\n",
            "\u001b[2K   \u001b[90m━━━━━━━━━━━━━━━━━━━━━━━━━━━━━━━━━━━━━━━━\u001b[0m \u001b[32m321.4/321.4 kB\u001b[0m \u001b[31m25.3 MB/s\u001b[0m eta \u001b[36m0:00:00\u001b[0m\n",
            "\u001b[2K   \u001b[90m━━━━━━━━━━━━━━━━━━━━━━━━━━━━━━━━━━━━━━━━\u001b[0m \u001b[32m94.8/94.8 kB\u001b[0m \u001b[31m9.3 MB/s\u001b[0m eta \u001b[36m0:00:00\u001b[0m\n",
            "\u001b[2K   \u001b[90m━━━━━━━━━━━━━━━━━━━━━━━━━━━━━━━━━━━━━━━━\u001b[0m \u001b[32m11.3/11.3 MB\u001b[0m \u001b[31m97.6 MB/s\u001b[0m eta \u001b[36m0:00:00\u001b[0m\n",
            "\u001b[2K   \u001b[90m━━━━━━━━━━━━━━━━━━━━━━━━━━━━━━━━━━━━━━━━\u001b[0m \u001b[32m73.2/73.2 kB\u001b[0m \u001b[31m6.5 MB/s\u001b[0m eta \u001b[36m0:00:00\u001b[0m\n",
            "\u001b[2K   \u001b[90m━━━━━━━━━━━━━━━━━━━━━━━━━━━━━━━━━━━━━━━━\u001b[0m \u001b[32m62.3/62.3 kB\u001b[0m \u001b[31m5.7 MB/s\u001b[0m eta \u001b[36m0:00:00\u001b[0m\n",
            "\u001b[?25h"
          ]
        }
      ]
    },
    {
      "cell_type": "code",
      "source": [
        "import openai\n",
        "import gradio as gr\n",
        "\n",
        "# Set your OpenAI API key\n",
        "openai.api_key = \"your_key\"\n",
        "\n",
        "# Function to generate a refined image prompt\n",
        "def generate_and_refine_prompt(\n",
        "    quiz_name,  # Internal metadata, not included in the response\n",
        "    level,      # Beginner, Intermediate, Advanced\n",
        "    theme,      # e.g., Nature, Fantasy\n",
        "    mood,       # e.g., Joyful, Peaceful\n",
        "    characters, # e.g., Animals, Humans\n",
        "    context,    # e.g., Indoor, Outdoor\n",
        "    art_medium, # e.g., Watercolors, 3D\n",
        "    color_scheme, # e.g., Vibrant, Dark\n",
        "    shot_type,  # e.g., Close-up, Wide-angle\n",
        "    actions_details, # Additional details\n",
        "    negative_prompt # Things to avoid\n",
        "):\n",
        "    \"\"\"\n",
        "    Generate a creative and structured image prompt based on user-selected options.\n",
        "    \"\"\"\n",
        "\n",
        "    # Step 1: Define the base instruction for the AI\n",
        "    if \"Beginner\" in level:\n",
        "        complexity_instruction = \"The lenght cannot be more than 50 tokens.Create a simple and short prompt with minimal details.\"\n",
        "    elif \"Intermediate\" in level:\n",
        "        complexity_instruction = \"The lenght cannot be more than 77 tokens.Create a moderately descriptive prompt with some complexity by combining multiple ideas like style, objects, and mood.\"\n",
        "    elif \"Advanced\" in level:\n",
        "        complexity_instruction = \"The lenght cannot be more than 150 tokens .Create a highly detailed and professional-quality prompt. Include nuanced details.Should be written in one passage.\"\n",
        "\n",
        "    ai_instruction = (\n",
        "        f\"You are a professional prompt engineer specializing in creating creative, detailed, and structured prompts \"\n",
        "        f\"for AI image generation tool Stable diffusion 3.5. Your job is to use the provided keywords and generate an example \"\n",
        "        f\"of a well-crafted image-generation prompt. Adjust the complexity based on the following instruction: {complexity_instruction}.\"\n",
        "    )\n",
        "\n",
        "    # Step 2: Combine user inputs into keywords\n",
        "    keywords = \"\"\n",
        "    if theme:\n",
        "        keywords += f\"Theme: {', '.join(theme)}. \"\n",
        "    if mood:\n",
        "        keywords += f\"Mood: {', '.join(mood)}. \"\n",
        "    if characters:\n",
        "        keywords += f\"Characters: {', '.join(characters)}. \"\n",
        "    if context:\n",
        "        keywords += f\"Context: {', '.join(context)}. \"\n",
        "    if art_medium:\n",
        "        keywords += f\"Art Medium: {', '.join(art_medium)}. \"\n",
        "    if color_scheme:\n",
        "        keywords += f\"Color Scheme: {', '.join(color_scheme)}. \"\n",
        "    if shot_type:\n",
        "        keywords += f\"Shot Type: {', '.join(shot_type)}. \"\n",
        "    if actions_details:\n",
        "        keywords += f\"Details: {actions_details}. \"\n",
        "    if negative_prompt:\n",
        "        keywords += f\"Exclude: {negative_prompt}. \"\n",
        "\n",
        "    # Step 3: Create the full input for GPT\n",
        "    full_prompt = f\"{ai_instruction}\\n\\nKeywords:\\n{keywords}\\n\\nGenerate an example of a stable diffusion prompt based on these keywords.\"\n",
        "\n",
        "    # Step 4: Call the OpenAI API\n",
        "    try:\n",
        "        response = openai.ChatCompletion.create(\n",
        "            model=\"gpt-4\",  # Use GPT-4 for best results\n",
        "            messages=[\n",
        "                {\"role\": \"system\", \"content\": \"You are a professional stable diffusion prompt engineer.\"},\n",
        "                {\"role\": \"user\", \"content\": full_prompt},\n",
        "            ],\n",
        "            max_tokens=200,\n",
        "            temperature=0.7,\n",
        "        )\n",
        "        # Extract and return the generated prompt\n",
        "        generated_prompt = response['choices'][0]['message']['content']\n",
        "        return generated_prompt\n",
        "\n",
        "    except Exception as e:\n",
        "        return f\"An error occurred while refining the prompt: {e}\"\n",
        "\n",
        "# Define the Gradio interface\n",
        "interface = gr.Interface(\n",
        "    fn=generate_and_refine_prompt,\n",
        "    inputs=[\n",
        "        gr.Textbox(label=\"Quiz Name\", placeholder=\"Optional (not sent to AI)\"),\n",
        "        gr.CheckboxGroup([\"Beginner\", \"Intermediate\", \"Advanced\"], label=\"Choose Level\"),\n",
        "        gr.CheckboxGroup(\n",
        "            [\"Nature\", \"Storytelling\", \"Fantasy and Magic\", \"Historical\", \"Everyday Life\"],\n",
        "            label=\"Choose Theme\",\n",
        "        ),\n",
        "        gr.CheckboxGroup(\n",
        "            [\"Joyful\", \"Energetic\", \"Hope\", \"Peaceful\", \"Cosy\"], label=\"Choose a Mood\"\n",
        "        ),\n",
        "        gr.CheckboxGroup(\n",
        "            [\"Animals\", \"Humans\", \"Fantasy Characters\", \"None\"], label=\"Choose Characters\"\n",
        "        ),\n",
        "        gr.CheckboxGroup([\"Indoor\", \"Outdoor\", \"At Night\", \"At Morning\"], label=\"Choose Context\"),\n",
        "        gr.CheckboxGroup(\n",
        "            [\"Pencil Drawing\", \"Graffiti\", \"Water Colors\", \"3D\"], label=\"Choose Art Medium\"\n",
        "        ),\n",
        "        gr.CheckboxGroup([\"Vibrant\", \"Dark\", \"Pastel\"], label=\"Choose Color Scheme\"),\n",
        "        gr.CheckboxGroup([\"Close-up\", \"Wide-angle\", \"Long-shot\"], label=\"Choose Shot Type\"),\n",
        "        gr.Textbox(label=\"Enter Actions or Details (Optional)\", placeholder=\"e.g., Wearing a suit\"),\n",
        "        gr.Textbox(\n",
        "            label=\"Enter Negative Prompt (Optional)\",\n",
        "            placeholder=\"e.g., Blurry image, Mutated body parts\",\n",
        "        ),\n",
        "    ],\n",
        "    outputs=\"textbox\",\n",
        "    title=\"AI-Generated Image Prompt Tool\",\n",
        "    description=\"Select options to generate an example of a structured and creative image-generation prompt.\",\n",
        ")\n",
        "\n",
        "# Launch the Gradio app\n",
        "interface.launch()\n"
      ],
      "metadata": {
        "colab": {
          "base_uri": "https://localhost:8080/",
          "height": 631
        },
        "id": "YLJ5wNWNhV2t",
        "outputId": "9ba74d80-7232-48da-d8ee-b683c89e9280"
      },
      "execution_count": null,
      "outputs": [
        {
          "output_type": "stream",
          "name": "stdout",
          "text": [
            "Running Gradio in a Colab notebook requires sharing enabled. Automatically setting `share=True` (you can turn this off by setting `share=False` in `launch()` explicitly).\n",
            "\n",
            "Colab notebook detected. To show errors in colab notebook, set debug=True in launch()\n",
            "* Running on public URL: https://0ec463d4213ea86b01.gradio.live\n",
            "\n",
            "This share link expires in 72 hours. For free permanent hosting and GPU upgrades, run `gradio deploy` from the terminal in the working directory to deploy to Hugging Face Spaces (https://huggingface.co/spaces)\n"
          ]
        },
        {
          "output_type": "display_data",
          "data": {
            "text/plain": [
              "<IPython.core.display.HTML object>"
            ],
            "text/html": [
              "<div><iframe src=\"https://0ec463d4213ea86b01.gradio.live\" width=\"100%\" height=\"500\" allow=\"autoplay; camera; microphone; clipboard-read; clipboard-write;\" frameborder=\"0\" allowfullscreen></iframe></div>"
            ]
          },
          "metadata": {}
        },
        {
          "output_type": "execute_result",
          "data": {
            "text/plain": []
          },
          "metadata": {},
          "execution_count": 6
        }
      ]
    }
  ]
}