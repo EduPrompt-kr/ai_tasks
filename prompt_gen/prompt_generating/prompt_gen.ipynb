{
 "cells": [
  {
   "cell_type": "code",
   "execution_count": 1,
   "metadata": {},
   "outputs": [
    {
     "name": "stdout",
     "output_type": "stream",
     "text": [
      "Requirement already satisfied: OpenAI in d:\\python2\\lib\\site-packages (1.70.0)\n",
      "Requirement already satisfied: anyio<5,>=3.5.0 in d:\\python2\\lib\\site-packages (from OpenAI) (4.0.0)\n",
      "Requirement already satisfied: distro<2,>=1.7.0 in d:\\python2\\lib\\site-packages (from OpenAI) (1.9.0)\n",
      "Requirement already satisfied: httpx<1,>=0.23.0 in d:\\python2\\lib\\site-packages (from OpenAI) (0.28.1)\n",
      "Requirement already satisfied: jiter<1,>=0.4.0 in d:\\python2\\lib\\site-packages (from OpenAI) (0.9.0)\n",
      "Requirement already satisfied: pydantic<3,>=1.9.0 in d:\\python2\\lib\\site-packages (from OpenAI) (2.11.1)\n",
      "Requirement already satisfied: sniffio in d:\\python2\\lib\\site-packages (from OpenAI) (1.3.0)\n",
      "Requirement already satisfied: tqdm>4 in d:\\python2\\lib\\site-packages (from OpenAI) (4.67.1)\n",
      "Requirement already satisfied: typing-extensions<5,>=4.11 in d:\\python2\\lib\\site-packages (from OpenAI) (4.13.0)\n",
      "Requirement already satisfied: idna>=2.8 in d:\\python2\\lib\\site-packages (from anyio<5,>=3.5.0->OpenAI) (3.4)\n",
      "Requirement already satisfied: certifi in d:\\python2\\lib\\site-packages (from httpx<1,>=0.23.0->OpenAI) (2023.7.22)\n",
      "Requirement already satisfied: httpcore==1.* in d:\\python2\\lib\\site-packages (from httpx<1,>=0.23.0->OpenAI) (1.0.7)\n",
      "Requirement already satisfied: h11<0.15,>=0.13 in d:\\python2\\lib\\site-packages (from httpcore==1.*->httpx<1,>=0.23.0->OpenAI) (0.14.0)\n",
      "Requirement already satisfied: annotated-types>=0.6.0 in d:\\python2\\lib\\site-packages (from pydantic<3,>=1.9.0->OpenAI) (0.7.0)\n",
      "Requirement already satisfied: pydantic-core==2.33.0 in d:\\python2\\lib\\site-packages (from pydantic<3,>=1.9.0->OpenAI) (2.33.0)\n",
      "Requirement already satisfied: typing-inspection>=0.4.0 in d:\\python2\\lib\\site-packages (from pydantic<3,>=1.9.0->OpenAI) (0.4.0)\n",
      "Requirement already satisfied: colorama in d:\\python2\\lib\\site-packages (from tqdm>4->OpenAI) (0.4.6)\n",
      "Note: you may need to restart the kernel to use updated packages.\n"
     ]
    },
    {
     "name": "stderr",
     "output_type": "stream",
     "text": [
      "\n",
      "[notice] A new release of pip is available: 23.2.1 -> 25.0.1\n",
      "[notice] To update, run: python.exe -m pip install --upgrade pip\n"
     ]
    }
   ],
   "source": [
    "%pip install OpenAI"
   ]
  },
  {
   "cell_type": "code",
   "execution_count": null,
   "metadata": {},
   "outputs": [],
   "source": [
    "from openai import OpenAI\n",
    "import os\n",
    "import random\n",
    "\n",
    "client = OpenAI(api_key=\"API_KEY\")"
   ]
  },
  {
   "cell_type": "code",
   "execution_count": 14,
   "metadata": {},
   "outputs": [],
   "source": [
    "def generate_teacherPrompt(topic, previous):\n",
    "    try:\n",
    "        response = client.responses.create(\n",
    "            model=\"gpt-4o\",\n",
    "            instructions=\"You are a professional stable diffusion prompt engineer.\",\n",
    "            input= f\"\"\"\n",
    "                Create one prompt describing an image on the topic of {topic}. \n",
    "                The first prompt must be unique (especially main object) from previous prompts [{previous}] and must use simple words suitable for kids and include details about the following categories (Exception: Landscapes image doesn't have a main object) but not too much details: \n",
    "                    - Main object: a person, animal, or object\n",
    "                    - Location: where the main object is\n",
    "                    - Action: what the main object is doing\n",
    "                    - Attributes: characteristics of the main object (e.g., color, size, shape)\n",
    "                    - Background: the environment surrounding the main object (e.g., weather, time of day)\n",
    "\n",
    "                Output only the two prompts in this format:\n",
    "                Prompt: [Prompt in one sentence]\n",
    "                \"\"\",\n",
    "        )\n",
    "\n",
    "        # Extract and return the generated prompts\n",
    "        generated_prompts = response.output_text\n",
    "\n",
    "        return generated_prompts\n",
    "\n",
    "    except Exception as e:\n",
    "        return f\"An error occurred while refining the prompt: {e}\"\n",
    "\n",
    "teacherPromptList = []\n",
    "\n",
    "# The list of topics\n",
    "topics = [\"Only Landscapes\", \"Animals\", \"Food and Drinks\", \"Fantasy\", \"Sci-Fi and Futurastic\", \"Sports\", \"Art and Creativity\", \"Historical and Cultural\", \"Music and Entertainment\"]\n",
    "\n",
    "\n",
    "for i in range(10):\n",
    "    promptsSet = generate_teacherPrompt(topics[i%9], teacherPromptList)\n",
    "    teacherPromptList.append(promptsSet.split(\"Prompt: \")[1].split(\"\\n\")[0])\n",
    "\n"
   ]
  },
  {
   "cell_type": "code",
   "execution_count": 17,
   "metadata": {},
   "outputs": [],
   "source": [
    "def generate_studentPrompt(teacher, performance):\n",
    "    try:\n",
    "        response = client.responses.create(\n",
    "            model=\"gpt-4o\",\n",
    "            instructions=\"You are a professional stable diffusion prompt engineer.\",\n",
    "            input= f\"\"\"\n",
    "                Create student's prompt describing an image generated by teacher's prompt: {teacher}. \n",
    "\n",
    "                The student's prompt use more general or very easy terms while still describing the same image. \n",
    "                Quality level of second prompt is {performance}\n",
    "                Quality Levels:\n",
    "                - Excellent: 90 ~ 100% simliar to first prompt, it will be similiar length with the first prompt and include all important information (Categories that is in the first prompt).\n",
    "                - Good: 70 ~ 90% simliar to first prompt, it will be long but loss a little details.\n",
    "                - Average: 50 ~ 70% simliar to first prompt, it will be little bit short and less detailed.\n",
    "                - Poor: 30 ~ 50% simliar to first prompt, it will be very short and less detailed or long with wrong information.\n",
    "\n",
    "                Output only the one prompts in this format:\n",
    "                Prompt: [Prompt in one sentence]\n",
    "                \"\"\",\n",
    "        )\n",
    "\n",
    "        # Extract and return the generated prompts\n",
    "        generated_prompts = response.output_text\n",
    "\n",
    "        return generated_prompts\n",
    "\n",
    "    except Exception as e:\n",
    "        return f\"An error occurred while refining the prompt: {e}\"\n",
    "\n",
    "# The list of performance levels\n",
    "studentPerformance = [\"Excellent\", \"Good\", \"Average\", \"Poor\"]\n",
    "    \n",
    "# You can change the performance of student to any of the four levels: Excellent (Very similar), Good, Average, Poor (Very distinct)\n",
    "# You can change the student perforamance have random accuracy using random using random.randint(0, 3)\n",
    "\n",
    "studentPromptList = []\n",
    "for i in range(10):\n",
    "    promptsSet = generate_studentPrompt(teacherPromptList[i], studentPerformance[3])\n",
    "    studentPromptList.append(promptsSet.split(\"Prompt: \")[1].split(\"\\n\")[0])"
   ]
  },
  {
   "cell_type": "code",
   "execution_count": 19,
   "metadata": {},
   "outputs": [],
   "source": [
    "import csv\n",
    "with open('prompts.csv', 'w', newline='') as f:\n",
    "    writer = csv.writer(f)\n",
    "    writer.writerow(['Teacher', 'Student'])  # Header\n",
    "    for t, s in zip(teacherPromptList, studentPromptList):\n",
    "        writer.writerow([t, s])"
   ]
  }
 ],
 "metadata": {
  "kernelspec": {
   "display_name": "Python 3",
   "language": "python",
   "name": "python3"
  },
  "language_info": {
   "codemirror_mode": {
    "name": "ipython",
    "version": 3
   },
   "file_extension": ".py",
   "mimetype": "text/x-python",
   "name": "python",
   "nbconvert_exporter": "python",
   "pygments_lexer": "ipython3",
   "version": "3.11.6"
  }
 },
 "nbformat": 4,
 "nbformat_minor": 2
}
